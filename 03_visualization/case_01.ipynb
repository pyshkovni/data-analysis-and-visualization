{
 "cells": [
  {
   "cell_type": "markdown",
   "metadata": {},
   "source": [
    "# Кейс \"Задача визуализации данных\""
   ]
  },
  {
   "cell_type": "markdown",
   "metadata": {},
   "source": [
    "## Вариант 1"
   ]
  },
  {
   "cell_type": "markdown",
   "metadata": {},
   "source": [
    "**Задание**\n",
    "\n",
    "Вам необходимо ответить на вопрос исследования, выбрав правильную форму графика для отображения данных.\n",
    "* Загрузите данные\n",
    "* Создайте график, который отражает требуемую информацию\n",
    "* Ответ включает два графика, которые необходимо построить с помощью библиотек:\n",
    "    1. `matplotlib` или `seaborn`, \n",
    "    2. `plotly`\n",
    "\n",
    "**Вопрос**\n",
    "\n",
    "* Каких категорий товаров было закуплено больше всего?\n",
    "* Используйте датасет `designer_store_purchase.xlsx`\n"
   ]
  },
  {
   "cell_type": "code",
   "execution_count": null,
   "metadata": {
    "vscode": {
     "languageId": "plaintext"
    }
   },
   "outputs": [],
   "source": []
  }
 ],
 "metadata": {
  "language_info": {
   "name": "python"
  }
 },
 "nbformat": 4,
 "nbformat_minor": 2
}
