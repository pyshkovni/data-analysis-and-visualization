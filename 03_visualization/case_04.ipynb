{
 "cells": [
  {
   "cell_type": "markdown",
   "metadata": {},
   "source": [
    "# Кейс \"Задача визуализации данных\""
   ]
  },
  {
   "cell_type": "markdown",
   "metadata": {},
   "source": [
    "## Вариант 4"
   ]
  },
  {
   "cell_type": "markdown",
   "metadata": {},
   "source": [
    "**Задание**\n",
    "\n",
    "Вам необходимо ответить на вопрос исследования, выбрав правильную форму графика для отображения данных.\n",
    "* Загрузите данные\n",
    "* Создайте график, который отражает требуемую информацию\n",
    "* Ответ включает два графика, которые необходимо построить с помощью библиотек:\n",
    "    1. `matplotlib` или `seaborn`, \n",
    "    2. `plotly`\n",
    "\n",
    "**Вопрос**\n",
    "\n",
    "* Как изменяется средний балл по направлениям обучения с течением времени?\n",
    "* Используйте датасет `ranepa_distant_complete_tests.xlsx`\n"
   ]
  },
  {
   "cell_type": "code",
   "execution_count": null,
   "metadata": {
    "vscode": {
     "languageId": "plaintext"
    }
   },
   "outputs": [],
   "source": []
  }
 ],
 "metadata": {
  "language_info": {
   "name": "python"
  }
 },
 "nbformat": 4,
 "nbformat_minor": 2
}
