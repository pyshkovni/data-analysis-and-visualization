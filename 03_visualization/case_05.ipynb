{
 "cells": [
  {
   "cell_type": "markdown",
   "metadata": {},
   "source": [
    "# Кейс \"Задача визуализации данных\""
   ]
  },
  {
   "cell_type": "markdown",
   "metadata": {},
   "source": [
    "## Вариант 5"
   ]
  },
  {
   "cell_type": "markdown",
   "metadata": {},
   "source": [
    "**Задание**\n",
    "\n",
    "Вам необходимо ответить на вопрос исследования, выбрав правильную форму графика для отображения данных.\n",
    "* Загрузите данные\n",
    "* Создайте график, который отражает требуемую информацию\n",
    "* Ответ включает два графика, которые необходимо построить с помощью библиотек:\n",
    "    1. `matplotlib` или `seaborn`, \n",
    "    2. `plotly`\n",
    "\n",
    "**Вопрос**\n",
    "\n",
    "* Как распределены отзывы на вино по возрастанию (от 0 до 100)?\n",
    "* Используйте датасет `winemag-data_first150k.csv.gz`\n"
   ]
  },
  {
   "cell_type": "code",
   "execution_count": null,
   "metadata": {
    "vscode": {
     "languageId": "plaintext"
    }
   },
   "outputs": [],
   "source": []
  }
 ],
 "metadata": {
  "language_info": {
   "name": "python"
  }
 },
 "nbformat": 4,
 "nbformat_minor": 2
}
