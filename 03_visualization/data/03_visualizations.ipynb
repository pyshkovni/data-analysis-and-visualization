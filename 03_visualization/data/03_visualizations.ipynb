{
 "cells": [
  {
   "cell_type": "markdown",
   "id": "563add92-9770-4977-90a4-05878ea01391",
   "metadata": {},
   "source": [
    "# Визуализация на Python"
   ]
  },
  {
   "cell_type": "markdown",
   "id": "db41caae-1596-4e54-b7cd-e2f66298d8e3",
   "metadata": {},
   "source": [
    "В начале как настроим окружение: импортируем все необходимые библиотеки и немного настроим дефолтное отображение картинок."
   ]
  },
  {
   "cell_type": "code",
   "execution_count": 93,
   "id": "3b352c7d-f019-4890-aa33-1d6e01c8229f",
   "metadata": {
    "execution": {
     "iopub.execute_input": "2024-10-10T23:37:03.548978Z",
     "iopub.status.busy": "2024-10-10T23:37:03.547696Z",
     "iopub.status.idle": "2024-10-10T23:37:03.588259Z",
     "shell.execute_reply": "2024-10-10T23:37:03.587571Z",
     "shell.execute_reply.started": "2024-10-10T23:37:03.548931Z"
    },
    "tags": []
   },
   "outputs": [
    {
     "name": "stdout",
     "output_type": "stream",
     "text": [
      "Populating the interactive namespace from numpy and matplotlib\n"
     ]
    }
   ],
   "source": [
    "import pandas as pd  # обработка таблиц\n",
    "import matplotlib.pyplot as plt  # простые визуализации\n",
    "import seaborn as sns  # красивые визуализации\n",
    "\n",
    "# интерактивные визуализации\n",
    "import plotly.express as px\n",
    "import plotly.graph_objects as go\n",
    "\n",
    "# отключим предупреждения Anaconda\n",
    "import warnings\n",
    "warnings.simplefilter('ignore')\n",
    "\n",
    "# будем отображать графики прямо в jupyter'e\n",
    "%pylab inline\n",
    "#графики в svg выглядят более четкими\n",
    "%config InlineBackend.figure_format = 'svg' \n",
    "\n",
    "# размер графика\n",
    "from pylab import rcParams\n",
    "rcParams['figure.figsize'] = 6, 4"
   ]
  },
  {
   "cell_type": "markdown",
   "id": "9654a85b-008f-4cf3-ad9f-0b3524bba1a7",
   "metadata": {},
   "source": [
    "## Загрузка и подготовка данных"
   ]
  },
  {
   "cell_type": "markdown",
   "id": "f969c861-4b54-4082-82b1-d3a0f16c9e40",
   "metadata": {},
   "source": [
    "* Датасет содержит данные о продажах и оценках видео-игр `video_games_sales.csv`\n",
    "* Источник с ресурса [Kaggle](https://www.kaggle.com/rush4ratio/video-game-sales-with-ratings)"
   ]
  },
  {
   "cell_type": "markdown",
   "id": "0e45d37f-d823-4fb0-a311-3fd3a7ab3238",
   "metadata": {},
   "source": [
    "1. **Выведите информацию о датасете**"
   ]
  },
  {
   "cell_type": "code",
   "execution_count": null,
   "id": "d0ea3332",
   "metadata": {},
   "outputs": [],
   "source": []
  },
  {
   "cell_type": "markdown",
   "id": "313e1324-246b-432d-8eae-9e4c327b5f51",
   "metadata": {},
   "source": [
    "2. **Подготовьте данные**"
   ]
  },
  {
   "cell_type": "code",
   "execution_count": null,
   "id": "6e5cd56e",
   "metadata": {},
   "outputs": [],
   "source": []
  },
  {
   "cell_type": "markdown",
   "id": "614ba5c2-6ab3-4fe6-b557-d88d5fb4f687",
   "metadata": {},
   "source": [
    "3. **Выберите признаки, которые будете использовать**"
   ]
  },
  {
   "cell_type": "code",
   "execution_count": null,
   "id": "5d978b9e",
   "metadata": {},
   "outputs": [],
   "source": []
  },
  {
   "cell_type": "markdown",
   "id": "c0b7709a-e32f-4b1f-8638-ba2e29035dc1",
   "metadata": {
    "tags": []
   },
   "source": [
    "## Библиотеки для визуализаций"
   ]
  },
  {
   "cell_type": "markdown",
   "id": "9114d6ab-45f6-47bb-8e49-ebca310300ff",
   "metadata": {},
   "source": [
    "[`matplotlib`](https://matplotlib.org/)\n",
    "\n",
    "* первая библиотека на python для визуализации\n",
    "* очень гибкая, но и монструозная, при этом стили родом из 90х\n",
    "* встроенные графики в pandas, seaborn\n",
    "\n",
    "[`seaborn`](https://seaborn.pydata.org/)\n",
    "\n",
    "* на основе matplotlib\n",
    "* сложные графики за пару строк кода\n",
    "* симпатичные стили по умолчанию\n",
    "* для тонкой настройки нужно изучать документацию matplotlib\n",
    "\n",
    "[`plotly`](https://plotly.com/python/)\n",
    "\n",
    "* интерактивные графики \n",
    "* простой API, но есть возможность настройки (тоже придется покопаться в документации)\n",
    "* красивые стили по умолчанию\n",
    "* dash - для создания дашборда в полноценном web-приложении"
   ]
  },
  {
   "cell_type": "markdown",
   "id": "0147127f-4afa-4aa5-964e-0051d54c2940",
   "metadata": {},
   "source": [
    "## Выберите графики, отвечающие задачам визуализации"
   ]
  },
  {
   "cell_type": "markdown",
   "id": "8e248b00-68a6-438e-9889-a57a270c817a",
   "metadata": {},
   "source": [
    "### Обычное сравнение (Nominal comparison)"
   ]
  },
  {
   "cell_type": "markdown",
   "id": "f40176b7-9ede-45f0-8e3a-9f93db7a56f3",
   "metadata": {},
   "source": [
    "**Nominal comparison** - простое сравнение одной или нескольких метрик по категориям без определенного порядка\n",
    "\n",
    "**Задача** - сравнить игровые платформы по числу выпущенных и проданных игр"
   ]
  },
  {
   "cell_type": "code",
   "execution_count": 1,
   "id": "1591a1da-b360-4022-9ff0-41a213ec5d05",
   "metadata": {
    "execution": {
     "iopub.execute_input": "2024-10-10T22:51:22.143071Z",
     "iopub.status.busy": "2024-10-10T22:51:22.142218Z",
     "iopub.status.idle": "2024-10-10T22:51:22.186212Z",
     "shell.execute_reply": "2024-10-10T22:51:22.185488Z",
     "shell.execute_reply.started": "2024-10-10T22:51:22.143030Z"
    },
    "tags": []
   },
   "outputs": [],
   "source": [
    "# датасет\n",
    "# рыночная долю игровых платформ, расчитанная по количеству выпущенных игр и по суммарной выручке\n"
   ]
  },
  {
   "cell_type": "code",
   "execution_count": 2,
   "id": "8addd9c0-48d8-4625-8217-b58d080e9610",
   "metadata": {
    "execution": {
     "iopub.execute_input": "2024-10-10T22:52:52.134400Z",
     "iopub.status.busy": "2024-10-10T22:52:52.133394Z",
     "iopub.status.idle": "2024-10-10T22:52:52.397520Z",
     "shell.execute_reply": "2024-10-10T22:52:52.396378Z",
     "shell.execute_reply.started": "2024-10-10T22:52:52.134357Z"
    },
    "tags": []
   },
   "outputs": [],
   "source": [
    "# matplot\n"
   ]
  },
  {
   "cell_type": "code",
   "execution_count": 3,
   "id": "f4583a4e-0c84-4fe9-87a3-5177af8560cd",
   "metadata": {
    "execution": {
     "iopub.execute_input": "2024-10-10T23:30:35.729941Z",
     "iopub.status.busy": "2024-10-10T23:30:35.729036Z",
     "iopub.status.idle": "2024-10-10T23:30:35.949559Z",
     "shell.execute_reply": "2024-10-10T23:30:35.948529Z",
     "shell.execute_reply.started": "2024-10-10T23:30:35.729896Z"
    },
    "tags": []
   },
   "outputs": [],
   "source": [
    "# seaborn\n"
   ]
  },
  {
   "cell_type": "code",
   "execution_count": 4,
   "id": "2d9f26d1-a447-4ebc-87b1-08cc92ec9bba",
   "metadata": {
    "execution": {
     "iopub.execute_input": "2024-10-10T23:36:22.498272Z",
     "iopub.status.busy": "2024-10-10T23:36:22.497280Z",
     "iopub.status.idle": "2024-10-10T23:36:22.555674Z",
     "shell.execute_reply": "2024-10-10T23:36:22.554844Z",
     "shell.execute_reply.started": "2024-10-10T23:36:22.498228Z"
    },
    "tags": []
   },
   "outputs": [],
   "source": [
    "# plotly.express\n"
   ]
  },
  {
   "cell_type": "code",
   "execution_count": 5,
   "id": "9a395b80-9a94-470e-a0e6-cac753176ea8",
   "metadata": {
    "execution": {
     "iopub.execute_input": "2024-10-10T23:38:02.929824Z",
     "iopub.status.busy": "2024-10-10T23:38:02.928790Z",
     "iopub.status.idle": "2024-10-10T23:38:02.974967Z",
     "shell.execute_reply": "2024-10-10T23:38:02.973920Z",
     "shell.execute_reply.started": "2024-10-10T23:38:02.929778Z"
    },
    "tags": []
   },
   "outputs": [],
   "source": [
    "# plotly.go\n"
   ]
  },
  {
   "cell_type": "markdown",
   "id": "a6cb2b40-0119-48a1-96b5-b91daf5ef72c",
   "metadata": {},
   "source": [
    "### Временные ряды (Time Series)"
   ]
  },
  {
   "cell_type": "markdown",
   "id": "8623af1e-a3b5-4dc1-9d04-94849f1222a8",
   "metadata": {},
   "source": [
    "**Time Series** - изменение одной или нескольких метрик во времени\n",
    "\n",
    "**Задача** - отобразить динамику числа проданных компьютерных игр в мире"
   ]
  },
  {
   "cell_type": "code",
   "execution_count": 6,
   "id": "18bc174a-7ed5-4481-9248-ad905906549c",
   "metadata": {
    "execution": {
     "iopub.execute_input": "2024-10-10T23:52:46.495660Z",
     "iopub.status.busy": "2024-10-10T23:52:46.494393Z",
     "iopub.status.idle": "2024-10-10T23:52:46.515472Z",
     "shell.execute_reply": "2024-10-10T23:52:46.514841Z",
     "shell.execute_reply.started": "2024-10-10T23:52:46.495616Z"
    },
    "tags": []
   },
   "outputs": [],
   "source": [
    "# датасет\n",
    "# динамика числа вышедших игр и их продаж по годам\n"
   ]
  },
  {
   "cell_type": "code",
   "execution_count": 8,
   "id": "8335ac42",
   "metadata": {},
   "outputs": [],
   "source": [
    "# matplot"
   ]
  },
  {
   "cell_type": "code",
   "execution_count": null,
   "id": "332d5771",
   "metadata": {},
   "outputs": [],
   "source": [
    "# seaborn"
   ]
  },
  {
   "cell_type": "code",
   "execution_count": 7,
   "id": "92af2ca1-cbb6-4de7-b768-2bb92cdc778f",
   "metadata": {
    "execution": {
     "iopub.execute_input": "2024-10-10T23:53:39.739672Z",
     "iopub.status.busy": "2024-10-10T23:53:39.738629Z",
     "iopub.status.idle": "2024-10-10T23:53:39.758940Z",
     "shell.execute_reply": "2024-10-10T23:53:39.758212Z",
     "shell.execute_reply.started": "2024-10-10T23:53:39.739626Z"
    },
    "tags": []
   },
   "outputs": [],
   "source": [
    "# plotly.go\n"
   ]
  },
  {
   "cell_type": "markdown",
   "id": "ba8125ca-f40b-47c9-b278-f43ed79e4a70",
   "metadata": {},
   "source": [
    "### Ранжирование Ranking"
   ]
  },
  {
   "cell_type": "markdown",
   "id": "92d295c8-789e-4d18-99d1-6700ceaa7db8",
   "metadata": {},
   "source": [
    "**Ranking** - значения метрики для категорий, упорядоченные по размеру\n",
    "\n",
    "**Задача** - показать, на каких платформах было выпущено большего всего игр"
   ]
  },
  {
   "cell_type": "code",
   "execution_count": 105,
   "id": "9d2fca00-12c6-433e-892a-c114860d8a5c",
   "metadata": {
    "execution": {
     "iopub.execute_input": "2024-10-10T23:54:53.663882Z",
     "iopub.status.busy": "2024-10-10T23:54:53.662799Z",
     "iopub.status.idle": "2024-10-10T23:54:53.684413Z",
     "shell.execute_reply": "2024-10-10T23:54:53.683708Z",
     "shell.execute_reply.started": "2024-10-10T23:54:53.663839Z"
    },
    "tags": []
   },
   "outputs": [],
   "source": []
  },
  {
   "cell_type": "markdown",
   "id": "e149ed8c-8620-49ce-a164-b91ee9bf4405",
   "metadata": {},
   "source": [
    "### Часть от целого (Part-to-hole)"
   ]
  },
  {
   "cell_type": "markdown",
   "id": "8b10cfb1-fa93-4308-89aa-9d0d3345f678",
   "metadata": {},
   "source": [
    "**Part-to-hole** - доли отдельных категорий от целого\n",
    "\n",
    "**Задача** - показать, какие доходы у разных игровых компаний и как они распределяются по рынкам (США, Европа и т.д.)"
   ]
  },
  {
   "cell_type": "code",
   "execution_count": 107,
   "id": "ee51c7ac-0831-46e2-a781-acdbee9e593c",
   "metadata": {
    "execution": {
     "iopub.execute_input": "2024-10-10T23:57:06.459640Z",
     "iopub.status.busy": "2024-10-10T23:57:06.458562Z",
     "iopub.status.idle": "2024-10-10T23:57:06.503917Z",
     "shell.execute_reply": "2024-10-10T23:57:06.503177Z",
     "shell.execute_reply.started": "2024-10-10T23:57:06.459597Z"
    },
    "tags": []
   },
   "outputs": [],
   "source": []
  },
  {
   "cell_type": "markdown",
   "id": "5fbf7493-92af-4e14-ab3a-6be5395ccb4c",
   "metadata": {},
   "source": [
    "### Отклонение (Deviation)"
   ]
  },
  {
   "cell_type": "markdown",
   "id": "bccf7565-685d-4d4f-a174-273804e17805",
   "metadata": {},
   "source": [
    "**Deviation** - сравнение показателей для категорий с baseline\n",
    "\n",
    "**Задача** - посмотреть, как отличаются средние прожажи для разных жанров"
   ]
  },
  {
   "cell_type": "code",
   "execution_count": 106,
   "id": "919e4726-509f-4b48-b941-e064a9a3198c",
   "metadata": {
    "execution": {
     "iopub.execute_input": "2024-10-10T23:57:04.713155Z",
     "iopub.status.busy": "2024-10-10T23:57:04.712326Z",
     "iopub.status.idle": "2024-10-10T23:57:04.728270Z",
     "shell.execute_reply": "2024-10-10T23:57:04.727645Z",
     "shell.execute_reply.started": "2024-10-10T23:57:04.713104Z"
    },
    "tags": []
   },
   "outputs": [],
   "source": []
  },
  {
   "cell_type": "markdown",
   "id": "662eaef8-e62f-48d7-b52a-684065bf705d",
   "metadata": {},
   "source": [
    "### Частотное распределение (Frequency distribution)"
   ]
  },
  {
   "cell_type": "markdown",
   "id": "dfe424de-4383-4428-b328-f6732dd20c12",
   "metadata": {},
   "source": [
    "**Frequency Distribution** - распределение величины (может быть нормированным)\n",
    "\n",
    "**Задача** - показать распределение пользовательских оценок игр"
   ]
  },
  {
   "cell_type": "code",
   "execution_count": null,
   "id": "52701664-d645-4d29-bd0f-267beab059d8",
   "metadata": {},
   "outputs": [],
   "source": []
  },
  {
   "cell_type": "markdown",
   "id": "22607534-6095-4961-8427-5b5b0f5eece0",
   "metadata": {},
   "source": [
    "## Кореляция (Correlation)"
   ]
  },
  {
   "cell_type": "markdown",
   "id": "cafb5b27-2159-4360-a504-654454031890",
   "metadata": {},
   "source": [
    "**Correlation** - кореляция между двумя численными величинами\n",
    "\n",
    "**Задача** - показать, как связаны между собой оценки пользователей и критиков"
   ]
  },
  {
   "cell_type": "code",
   "execution_count": null,
   "id": "05e807f6-1462-4918-99bf-a68b5439f71d",
   "metadata": {
    "execution": {
     "iopub.execute_input": "2024-10-11T00:00:20.761460Z",
     "iopub.status.busy": "2024-10-11T00:00:20.760421Z",
     "iopub.status.idle": "2024-10-11T00:00:20.790625Z",
     "shell.execute_reply": "2024-10-11T00:00:20.789966Z",
     "shell.execute_reply.started": "2024-10-11T00:00:20.761417Z"
    },
    "tags": []
   },
   "outputs": [],
   "source": []
  },
  {
   "cell_type": "markdown",
   "id": "456de484-d4a5-43b6-9a3d-88dbde5cfc30",
   "metadata": {},
   "source": [
    "### Специфичные (например, воронка продаж)"
   ]
  },
  {
   "cell_type": "code",
   "execution_count": null,
   "id": "1d95b249-d280-4cdf-8dee-e85b49593e94",
   "metadata": {},
   "outputs": [],
   "source": []
  },
  {
   "cell_type": "markdown",
   "id": "6e474e14-53e7-4938-a6f0-2a3165e7a9c7",
   "metadata": {},
   "source": [
    "## Дополнительно"
   ]
  },
  {
   "cell_type": "markdown",
   "id": "8cdd9321-f54c-48be-a053-506c6f3ca9d1",
   "metadata": {},
   "source": [
    "* [Диаграмма \"Какой график выбрать\"](https://apandre.wordpress.com/wp-content/uploads/2011/02/chartchooserincolor.jpg)\n",
    "* [Метод iplot в plotly](https://proglib.io/p/plotly) "
   ]
  }
 ],
 "metadata": {
  "kernelspec": {
   "display_name": "metaregr",
   "language": "python",
   "name": "python3"
  },
  "language_info": {
   "codemirror_mode": {
    "name": "ipython",
    "version": 3
   },
   "file_extension": ".py",
   "mimetype": "text/x-python",
   "name": "python",
   "nbconvert_exporter": "python",
   "pygments_lexer": "ipython3",
   "version": "3.12.7"
  }
 },
 "nbformat": 4,
 "nbformat_minor": 5
}
